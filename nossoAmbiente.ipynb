{
  "nbformat": 4,
  "nbformat_minor": 0,
  "metadata": {
    "colab": {
      "name": "nossoAmbiente.ipynb",
      "provenance": [],
      "include_colab_link": true
    },
    "kernelspec": {
      "name": "python3",
      "display_name": "Python 3"
    },
    "language_info": {
      "name": "python"
    }
  },
  "cells": [
    {
      "cell_type": "markdown",
      "metadata": {
        "id": "view-in-github",
        "colab_type": "text"
      },
      "source": [
        "<a href=\"https://colab.research.google.com/github/ALPHA3DCLASS/Python_Mechanics/blob/master/nossoAmbiente.ipynb\" target=\"_parent\"><img src=\"https://colab.research.google.com/assets/colab-badge.svg\" alt=\"Open In Colab\"/></a>"
      ]
    },
    {
      "cell_type": "markdown",
      "source": [
        "**UNIVERSIDADE FEDERAL DO RIO GRANDE DO NORTE**\n",
        "\n",
        "***DEPARTAMENTO DE ENGENHARIA MECÂNICA***\n",
        "\n",
        "\n",
        "---\n",
        "PROFESSOR CARLOS MAGNO\n",
        "\n",
        "ALUNO ____________________mMTRICULA:_________\n"
      ],
      "metadata": {
        "id": "XkuP2IutpMDE"
      }
    },
    {
      "cell_type": "markdown",
      "source": [
        "***Meu primeiro programa***\n"
      ],
      "metadata": {
        "id": "KdBs5R5VqwiG"
      }
    },
    {
      "cell_type": "code",
      "source": [
        "print(\"ola pesso.ghkjgljhgjgyjial\")"
      ],
      "metadata": {
        "id": "ZicoP542rJp7",
        "outputId": "838b30af-dcba-48b2-f060-eb5336a1bf50",
        "colab": {
          "base_uri": "https://localhost:8080/"
        }
      },
      "execution_count": 3,
      "outputs": [
        {
          "output_type": "stream",
          "name": "stdout",
          "text": [
            "ola pesso.ghkjgljhgjgyjial\n"
          ]
        }
      ]
    }
  ]
}